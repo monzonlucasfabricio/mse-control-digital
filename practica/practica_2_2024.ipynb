{
 "cells": [
  {
   "cell_type": "code",
   "execution_count": 1,
   "metadata": {},
   "outputs": [],
   "source": [
    "import numpy as np\n",
    "import matplotlib.pyplot as plt\n",
    "from scipy.linalg import expm\n",
    "from control import *"
   ]
  },
  {
   "cell_type": "code",
   "execution_count": 2,
   "metadata": {},
   "outputs": [],
   "source": [
    "# n = orden\n",
    "# u = entrada\n",
    "# y = salida\n",
    "def identificacionLS(n, u, y):\n",
    "    Y = y[n:]  # Seleccionar desde n hasta el final de y\n",
    "    m = len(y) - n  # Longitud de Y\n",
    "\n",
    "    print(m)\n",
    "    \n",
    "    # Construir matriz Phi\n",
    "    Phi = np.zeros((m, 2*n))  # Inicializar matriz Phi de tamaño m x (2n)\n",
    "    \n",
    "    # Llenar las columnas de Phi relacionadas con y\n",
    "    for i in range(n):\n",
    "        Phi[:, i] = y[n-i-1:m-i-1]\n",
    "    \n",
    "    # Llenar las columnas de Phi relacionadas con u\n",
    "    for j in range(n):\n",
    "        Phi[:, n+j] = u[n-j-1:m-j-1]\n",
    "    \n",
    "    # Calcular Theta utilizando la fórmula de mínimos cuadrados\n",
    "    Theta = np.linalg.inv(Phi.T @ Phi) @ Phi.T @ Y\n",
    "    \n",
    "    return Theta"
   ]
  },
  {
   "cell_type": "code",
   "execution_count": null,
   "metadata": {},
   "outputs": [],
   "source": []
  }
 ],
 "metadata": {
  "kernelspec": {
   "display_name": "base",
   "language": "python",
   "name": "python3"
  },
  "language_info": {
   "codemirror_mode": {
    "name": "ipython",
    "version": 3
   },
   "file_extension": ".py",
   "mimetype": "text/x-python",
   "name": "python",
   "nbconvert_exporter": "python",
   "pygments_lexer": "ipython3",
   "version": "3.9.7"
  }
 },
 "nbformat": 4,
 "nbformat_minor": 2
}
