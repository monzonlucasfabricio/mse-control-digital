{
 "cells": [
  {
   "cell_type": "code",
   "execution_count": 1,
   "metadata": {},
   "outputs": [],
   "source": [
    "import numpy as np\n",
    "import control as cnt\n",
    "from scipy.linalg import expm\n",
    "import matplotlib.pyplot as plt"
   ]
  },
  {
   "cell_type": "code",
   "execution_count": 2,
   "metadata": {},
   "outputs": [],
   "source": [
    "# Esta funcion es para la ejecucion en un tiempo determinado T\n",
    "# Por lo tanto todo lo que le pasemos al diccionario o arranca en 0 viene calculado de una iteracion anterior \n",
    "def pid_controller(pid_data : dict) -> dict:\n",
    "    data = pid_data.copy()\n",
    "    \n",
    "    p = data['kp'] * (data['Beta'] * data['r'] - data['y'])\n",
    "    i = data['i_futuro']\n",
    "    d = (data['kd'] / (data['kd'] + data['n'] * data['h'])) * (data['d_pasado'] - data['n'] * (data['y'] - data['y_pasado']))\n",
    "\n",
    "    data['u'] = p + i + d\n",
    "\n",
    "    data['i_futuro'] = i + data['h'] * data['ki'] * (data['r'] - data['y'])\n",
    "    data['d_pasado'] = d\n",
    "    data['y_pasado'] = data['y']\n",
    "\n",
    "    return data"
   ]
  },
  {
   "cell_type": "code",
   "execution_count": 3,
   "metadata": {},
   "outputs": [],
   "source": [
    "def pid_controller_response(num: np.ndarray, den: np.ndarray, input: np.ndarray, pid_data: dict) -> np.ndarray:\n",
    "\n",
    "    a = np.array(den).flatten()\n",
    "    b = np.array(num).flatten()\n",
    "\n",
    "    n_inicial = len(a) - 1\n",
    "\n",
    "    y = np.zeros(len(input) + len(a) - 1)\n",
    "    r = np.concatenate((np.zeros(n_inicial), input), axis = None)\n",
    "    u = np.concatenate((np.zeros(n_inicial), input), axis = None)\n",
    "\n",
    "    data = pid_data.copy()\n",
    "\n",
    "    for k in range(n_inicial, len(u)):\n",
    "\n",
    "        data['y'] = y[k - 1] # ADC\n",
    "        data['r'] = r[k] # ADC\n",
    "\n",
    "        data = pid_controller(data)\n",
    "\n",
    "        u[k] = data['u'] # DAC\n",
    "\n",
    "        for m in range(0, len(b)):\n",
    "            y[k] = y[k] + b[m] * u[k - m]\n",
    "\n",
    "        for n in range(1, len(a)):\n",
    "            y[k] = y[k] - a[n] * y[k - n]\n",
    "        \n",
    "        y[k] = y[k] / a[0]\n",
    "\n",
    "    return y[n_inicial - 1:]\n"
   ]
  }
 ],
 "metadata": {
  "kernelspec": {
   "display_name": "py310",
   "language": "python",
   "name": "python3"
  },
  "language_info": {
   "codemirror_mode": {
    "name": "ipython",
    "version": 3
   },
   "file_extension": ".py",
   "mimetype": "text/x-python",
   "name": "python",
   "nbconvert_exporter": "python",
   "pygments_lexer": "ipython3",
   "version": "3.10.13"
  }
 },
 "nbformat": 4,
 "nbformat_minor": 2
}
