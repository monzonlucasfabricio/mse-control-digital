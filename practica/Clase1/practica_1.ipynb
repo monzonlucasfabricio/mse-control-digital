{
 "cells": [
  {
   "attachments": {},
   "cell_type": "markdown",
   "metadata": {},
   "source": [
    "### Control Digital en Sistemas Embebidos - MSE - PRACTICA 1"
   ]
  },
  {
   "cell_type": "code",
   "execution_count": null,
   "metadata": {},
   "outputs": [],
   "source": [
    "!pipenv install slycot\n",
    "!pipenv install control\n",
    "!pipenv install matplotlib"
   ]
  },
  {
   "cell_type": "code",
   "execution_count": null,
   "metadata": {},
   "outputs": [],
   "source": [
    "import numpy as np\n",
    "from scipy.linalg import expm\n",
    "from control import *\n",
    "import matplotlib.pyplot as plt"
   ]
  },
  {
   "cell_type": "code",
   "execution_count": null,
   "metadata": {},
   "outputs": [],
   "source": [
    "r_1 = 10e3\n",
    "c_1 = 10e-6\n",
    "r_2 = 1e3\n",
    "c_2 = 10e-6"
   ]
  },
  {
   "attachments": {},
   "cell_type": "markdown",
   "metadata": {},
   "source": [
    "**1)** Crear una planta mediante los coeficientes del denominador y numerador en el dominio continuo."
   ]
  },
  {
   "attachments": {},
   "cell_type": "markdown",
   "metadata": {},
   "source": [
    "**Opcion 1:** Realizar el desarrollo matematico de la ecuación diferencial del circuito y obtener la función transferencia en el dominio de Laplace"
   ]
  },
  {
   "cell_type": "code",
   "execution_count": null,
   "metadata": {},
   "outputs": [],
   "source": [
    "s = tf('s')\n",
    "hs_1 = 1 / ((r_1*c_1*r_2*c_2)*s*s + (r_1*c_1+r_1*c_2+r_2*c_2)*s + 1)\n",
    "num_1, den_1 = tfdata(hs_1)\n",
    "num_1, den_1\n"
   ]
  },
  {
   "attachments": {},
   "cell_type": "markdown",
   "metadata": {},
   "source": [
    "**Opcion 2:** Realizar el desarrollo matematico de la ecuación diferencial del circuito para obtener los coeficientes del numerador y denominador"
   ]
  },
  {
   "cell_type": "code",
   "execution_count": null,
   "metadata": {},
   "outputs": [],
   "source": [
    "num_2 = np.array([1])\n",
    "den_2 = np.array([(r_1*c_1*r_2*c_2), (r_1*c_1+r_1*c_2+r_2*c_2), 1])\n",
    "hs_2 = tf(num_2, den_2)\n",
    "hs_2"
   ]
  },
  {
   "attachments": {},
   "cell_type": "markdown",
   "metadata": {},
   "source": [
    "**2)** Crear una planta mediante las matrices de estado (A, B, C y D) que la definen."
   ]
  },
  {
   "attachments": {},
   "cell_type": "markdown",
   "metadata": {},
   "source": [
    "Se pueden obtener los coeficientes de las ecuaciones de estado a partir de los coeficientes del numerador y denominador, y la funcion 'tf2ss'."
   ]
  },
  {
   "cell_type": "code",
   "execution_count": null,
   "metadata": {},
   "outputs": [],
   "source": [
    "ss_1 = tf2ss(num_1, den_1)\n",
    "ss_1"
   ]
  },
  {
   "attachments": {},
   "cell_type": "markdown",
   "metadata": {},
   "source": [
    "Se pueden obtener los coeficientes del numerador y denominador de la funcion transferencia a partir de los coeficientes de estado con 'ss2tf'"
   ]
  },
  {
   "cell_type": "code",
   "execution_count": null,
   "metadata": {},
   "outputs": [],
   "source": [
    "hs_2 = ss2tf(ss_1)\n",
    "hs_2"
   ]
  },
  {
   "cell_type": "code",
   "execution_count": null,
   "metadata": {},
   "outputs": [],
   "source": [
    "hs_3 = ss2tf(ss_1.A, ss_1.B, ss_1.C, ss_1.D)\n",
    "hs_3"
   ]
  },
  {
   "attachments": {},
   "cell_type": "markdown",
   "metadata": {},
   "source": [
    "También puede obtenerse la función transferencia a partir de los coeficientes de las ecuaciones de estado con: \n",
    "\n",
    "$H_{s} = C (sI − A)^{−1} B + D$"
   ]
  },
  {
   "cell_type": "code",
   "execution_count": null,
   "metadata": {},
   "outputs": [],
   "source": [
    "s = tf('s')\n",
    "hs_3 = ss_1.C / (np.multiply(np.eye(ss_1.A.shape[0]), s) - ss_1.A) * ss_1.B + ss_1.D\n",
    "hs_3"
   ]
  },
  {
   "attachments": {},
   "cell_type": "markdown",
   "metadata": {},
   "source": [
    "**3)** Discretizar las anteriores plantas"
   ]
  },
  {
   "cell_type": "code",
   "execution_count": null,
   "metadata": {},
   "outputs": [],
   "source": [
    "h = 0.1"
   ]
  },
  {
   "attachments": {},
   "cell_type": "markdown",
   "metadata": {},
   "source": [
    "**Opcion 1:** Discretizar utilizando la funcion 'c2d'"
   ]
  },
  {
   "cell_type": "code",
   "execution_count": null,
   "metadata": {},
   "outputs": [],
   "source": [
    "hz_1 = c2d(hs_1, h, 'zoh')\n",
    "numz_1, denz_1 = tfdata(hz_1)\n",
    "ss_2 = tf2ss(numz_1, denz_1)\n",
    "ss_2"
   ]
  },
  {
   "attachments": {},
   "cell_type": "markdown",
   "metadata": {},
   "source": [
    "**Opcion 2:** Discretizar utilizando las funciones para obtener las ecuaciones de estado discretas a partir de los coeficientes de las ecuaciones en tiempo continuo."
   ]
  },
  {
   "cell_type": "code",
   "execution_count": null,
   "metadata": {},
   "outputs": [],
   "source": [
    "phi_2 = expm(ss_1.A * h)\n",
    "rho_2 = (expm(ss_1.A * h) - expm(ss_1.A * 0)) / ss_1.A * ss_1.B\n",
    "cz_2 = ss_1.C\n",
    "dz_2 = 0\n",
    "\n",
    "ss2tf(phi_2, rho_2, cz_2, dz_2)\n",
    "rho_2"
   ]
  },
  {
   "attachments": {},
   "cell_type": "markdown",
   "metadata": {},
   "source": [
    "**4)** Evaluar la distribución de polos y ceros de las plantas continuas y discretas, también su respuesta en frecuencia."
   ]
  },
  {
   "cell_type": "code",
   "execution_count": null,
   "metadata": {},
   "outputs": [],
   "source": [
    "bode_plot(hs_1);"
   ]
  },
  {
   "cell_type": "code",
   "execution_count": null,
   "metadata": {},
   "outputs": [],
   "source": [
    "zeros(hs_1), poles(hs_1)"
   ]
  },
  {
   "cell_type": "code",
   "execution_count": null,
   "metadata": {},
   "outputs": [],
   "source": [
    "zeros(hz_1), poles(hz_1)"
   ]
  },
  {
   "cell_type": "code",
   "execution_count": null,
   "metadata": {},
   "outputs": [],
   "source": [
    "pzmap(hz_1)"
   ]
  },
  {
   "attachments": {},
   "cell_type": "markdown",
   "metadata": {},
   "source": [
    "**5)** Evaluar la respuesta al escalón de todas las plantas (continuas y discretas)"
   ]
  },
  {
   "cell_type": "code",
   "execution_count": null,
   "metadata": {},
   "outputs": [],
   "source": [
    "t, hs_out = step_response(hs_1)\n",
    "plt.plot(t, hs_out);"
   ]
  },
  {
   "cell_type": "code",
   "execution_count": null,
   "metadata": {},
   "outputs": [],
   "source": [
    "t, hz_out = step_response(hz_1)\n",
    "plt.plot(t, hz_out);"
   ]
  },
  {
   "attachments": {},
   "cell_type": "markdown",
   "metadata": {},
   "source": [
    "**6)** Crear una función que aplique la ecuación de recurrencia de un filtro a una entrada cualquiera. (Ver función filter de Matlab)."
   ]
  },
  {
   "cell_type": "code",
   "execution_count": null,
   "metadata": {},
   "outputs": [],
   "source": [
    "def funcion_recurrencia(num: np.ndarray, den: np.ndarray, input: np.ndarray) -> np.ndarray:\n",
    "    # TODO\n",
    "    return input"
   ]
  },
  {
   "attachments": {},
   "cell_type": "markdown",
   "metadata": {},
   "source": [
    "**7)** Compare las respuestas al escalón discretas con el comando step frente a la creada con la ecuación de recurrencia"
   ]
  },
  {
   "cell_type": "code",
   "execution_count": null,
   "metadata": {},
   "outputs": [],
   "source": [
    "t = np.linspace(h, h * 100, 100)\n",
    "u = np.concatenate((np.zeros(int(len(t) / 2)), np.ones(int(len(t) / 2))), axis=None)"
   ]
  },
  {
   "cell_type": "code",
   "execution_count": null,
   "metadata": {},
   "outputs": [],
   "source": [
    "y_1 = funcion_recurrencia(numz_1, denz_1, u)\n",
    "t_2, y_2 = input_output_response(tf2io(hz_1), t, u)"
   ]
  },
  {
   "cell_type": "code",
   "execution_count": null,
   "metadata": {},
   "outputs": [],
   "source": [
    "p_1 = plt.plot(y_1)\n",
    "p_2 = plt.plot(y_2)\n",
    "plt.ylabel('u(t)')\n",
    "plt.title('Respuesta al Escalon')\n",
    "plt.legend((p_1[0], p_2[0]), ('y1(t)', 'y2(t)'));"
   ]
  }
 ],
 "metadata": {
  "kernelspec": {
   "display_name": "2023-UsMB_8wI",
   "language": "python",
   "name": "python3"
  },
  "language_info": {
   "codemirror_mode": {
    "name": "ipython",
    "version": 3
   },
   "file_extension": ".py",
   "mimetype": "text/x-python",
   "name": "python",
   "nbconvert_exporter": "python",
   "pygments_lexer": "ipython3",
   "version": "3.10.6"
  },
  "orig_nbformat": 4,
  "vscode": {
   "interpreter": {
    "hash": "b0910efa68c65faf7b1b22e60f5ed6d10d209310f0a455ecbd862ffe309cfe1b"
   }
  }
 },
 "nbformat": 4,
 "nbformat_minor": 2
}
